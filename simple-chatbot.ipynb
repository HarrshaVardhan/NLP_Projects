{
 "cells": [
  {
   "cell_type": "code",
   "execution_count": 1,
   "metadata": {
    "_cell_guid": "b1076dfc-b9ad-4769-8c92-a6c4dae69d19",
    "_uuid": "8f2839f25d086af736a60e9eeb907d3b93b6e0e5"
   },
   "outputs": [],
   "source": [
    "import numpy as np\n",
    "import json\n",
    "import re\n",
    "import tensorflow as tf\n",
    "import warnings\n",
    "\n",
    "import spacy\n",
    "nlp = spacy.load('en_core_web_sm')\n",
    "\n",
    "warnings.filterwarnings('ignore')"
   ]
  },
  {
   "cell_type": "code",
   "execution_count": 2,
   "metadata": {
    "_cell_guid": "79c7e3d0-c299-4dcb-8224-4455121ee9b0",
    "_uuid": "d629ff2d2480ee46fbb7e2d37f6b5fab8052498a"
   },
   "outputs": [],
   "source": [
    "''' reading data '''\n",
    "with open('Intent.json', 'rb') as file:\n",
    "    data = json.load(file)"
   ]
  },
  {
   "cell_type": "code",
   "execution_count": 3,
   "metadata": {},
   "outputs": [],
   "source": [
    "''' preprocessing '''\n",
    "def pre_processing(line):\n",
    "    line = re.sub(r'[^a-zA-z.?!\\']', ' ', line)\n",
    "    line = re.sub(r'[ ]+', ' ', line)\n",
    "    return line"
   ]
  },
  {
   "cell_type": "code",
   "execution_count": 4,
   "metadata": {},
   "outputs": [],
   "source": [
    "'''get text and intent title from json data'''\n",
    "inputs, targets = [], []\n",
    "cls = []\n",
    "intent_doc = {}\n",
    "\n",
    "for i in data['intents']:\n",
    "    if i['intent'] not in cls:\n",
    "        cls.append(i['intent'])\n",
    "        \n",
    "    if i['intent'] not in intent_doc:\n",
    "        intent_doc[i['intent']] = []\n",
    "        \n",
    "    for text in i['text']:\n",
    "        inputs.append(pre_processing(text))\n",
    "        targets.append(i['intent'])\n",
    "        \n",
    "    for response in i['responses']:\n",
    "        intent_doc[i['intent']].append(response)"
   ]
  },
  {
   "cell_type": "code",
   "execution_count": 5,
   "metadata": {},
   "outputs": [],
   "source": [
    "''' tokenize data '''\n",
    "def token_data(inp_list):\n",
    "    tokenizer = tf.keras.preprocessing.text.Tokenizer(filters='', oov_token='<unk>')\n",
    "    \n",
    "    tokenizer.fit_on_texts(inp_list)\n",
    "    \n",
    "    inp_seq = tokenizer.texts_to_sequences(inp_list)\n",
    "\n",
    "    ''' adding padding '''\n",
    "    inp_seq = tf.keras.preprocessing.sequence.pad_sequences(inp_seq, padding='pre')\n",
    "    \n",
    "    return tokenizer, inp_seq\n",
    "\n",
    "'''preprocess input data'''\n",
    "tokenizer, inp_tensor = token_data(inputs)"
   ]
  },
  {
   "cell_type": "code",
   "execution_count": 6,
   "metadata": {},
   "outputs": [],
   "source": [
    "def cr_cat_target(targets):\n",
    "    word = {}\n",
    "    cat_t = []\n",
    "    counter=0\n",
    "    \n",
    "    for trg in targets:\n",
    "        if trg not in word:\n",
    "            word[trg]=counter\n",
    "            counter+=1\n",
    "        cat_t.append(word[trg])\n",
    "    \n",
    "    cat_tensor = tf.keras.utils.to_categorical(cat_t, num_classes=len(word), dtype='int32')\n",
    "    return cat_tensor, dict((v,k) for k, v in word.items())\n",
    "\n",
    "'''preprocess output data'''\n",
    "target_tensor, target_idx_word = cr_cat_target(targets)"
   ]
  },
  {
   "cell_type": "code",
   "execution_count": 7,
   "metadata": {},
   "outputs": [
    {
     "name": "stdout",
     "output_type": "stream",
     "text": [
      "input shape: (143, 9) and output shape: (143, 22)\n"
     ]
    }
   ],
   "source": [
    "print('input shape: {} and output shape: {}'.format(inp_tensor.shape, target_tensor.shape))"
   ]
  },
  {
   "cell_type": "code",
   "execution_count": 8,
   "metadata": {},
   "outputs": [],
   "source": [
    "''' Build Model '''\n",
    "''' hyperparameters'''\n",
    "epochs=50\n",
    "vocab_size = len(tokenizer.word_index) + 1\n",
    "embed_dim = 512\n",
    "units=128\n",
    "target_len = target_tensor.shape[1]\n",
    "\n",
    "''' Model '''\n",
    "model = tf.keras.models.Sequential([\n",
    "    ## Embedding Layer \n",
    "    tf.keras.layers.Embedding(vocab_size, embed_dim),\n",
    "    tf.keras.layers.Bidirectional(tf.keras.layers.LSTM(units, dropout=0.2)),\n",
    "    ## Hidden Layer \n",
    "    tf.keras.layers.Dense(units, activation='relu'),\n",
    "    tf.keras.layers.Dropout(0.5),\n",
    "    ## Classification Layer \n",
    "    tf.keras.layers.Dense(target_len, activation='softmax')])"
   ]
  },
  {
   "cell_type": "code",
   "execution_count": 9,
   "metadata": {},
   "outputs": [
    {
     "name": "stdout",
     "output_type": "stream",
     "text": [
      "Model: \"sequential\"\n",
      "_________________________________________________________________\n",
      "Layer (type)                 Output Shape              Param #   \n",
      "=================================================================\n",
      "embedding (Embedding)        (None, None, 512)         66048     \n",
      "_________________________________________________________________\n",
      "bidirectional (Bidirectional (None, 256)               656384    \n",
      "_________________________________________________________________\n",
      "dense (Dense)                (None, 128)               32896     \n",
      "_________________________________________________________________\n",
      "dropout (Dropout)            (None, 128)               0         \n",
      "_________________________________________________________________\n",
      "dense_1 (Dense)              (None, 22)                2838      \n",
      "=================================================================\n",
      "Total params: 758,166\n",
      "Trainable params: 758,166\n",
      "Non-trainable params: 0\n",
      "_________________________________________________________________\n"
     ]
    }
   ],
   "source": [
    "''' Compile the model '''\n",
    "model.compile(optimizer=tf.keras.optimizers.Adam(lr=1e-2), loss='categorical_crossentropy', metrics=['accuracy'])\n",
    "\n",
    "''' lets see how model looks like '''\n",
    "model.summary()"
   ]
  },
  {
   "cell_type": "code",
   "execution_count": 10,
   "metadata": {},
   "outputs": [
    {
     "name": "stdout",
     "output_type": "stream",
     "text": [
      "Epoch 1/50\n",
      "5/5 [==============================] - 0s 8ms/step - loss: 3.1203 - accuracy: 0.0699\n",
      "Epoch 2/50\n",
      "5/5 [==============================] - 0s 7ms/step - loss: 2.6396 - accuracy: 0.2238\n",
      "Epoch 3/50\n",
      "5/5 [==============================] - 0s 6ms/step - loss: 1.9043 - accuracy: 0.4545\n",
      "Epoch 4/50\n",
      "5/5 [==============================] - 0s 6ms/step - loss: 1.2231 - accuracy: 0.5664\n",
      "Epoch 5/50\n",
      "5/5 [==============================] - 0s 6ms/step - loss: 0.8546 - accuracy: 0.7203\n",
      "Epoch 6/50\n",
      "5/5 [==============================] - 0s 7ms/step - loss: 0.3908 - accuracy: 0.8881\n",
      "Epoch 7/50\n",
      "5/5 [==============================] - 0s 7ms/step - loss: 0.2393 - accuracy: 0.9301\n",
      "Epoch 8/50\n",
      "5/5 [==============================] - 0s 7ms/step - loss: 0.1778 - accuracy: 0.9301\n",
      "Epoch 9/50\n",
      "5/5 [==============================] - 0s 7ms/step - loss: 0.2322 - accuracy: 0.9441\n",
      "Epoch 10/50\n",
      "5/5 [==============================] - 0s 6ms/step - loss: 0.0692 - accuracy: 0.9720\n",
      "Epoch 11/50\n",
      "5/5 [==============================] - 0s 6ms/step - loss: 0.0872 - accuracy: 0.9720\n",
      "Epoch 12/50\n",
      "5/5 [==============================] - 0s 7ms/step - loss: 0.0417 - accuracy: 0.9930\n",
      "Epoch 13/50\n",
      "5/5 [==============================] - 0s 7ms/step - loss: 0.0301 - accuracy: 0.9930\n",
      "Epoch 14/50\n",
      "5/5 [==============================] - 0s 6ms/step - loss: 0.0081 - accuracy: 1.0000\n",
      "Epoch 15/50\n",
      "5/5 [==============================] - 0s 6ms/step - loss: 0.0057 - accuracy: 1.0000\n",
      "Epoch 16/50\n",
      "5/5 [==============================] - 0s 6ms/step - loss: 0.0189 - accuracy: 0.9930\n",
      "Epoch 17/50\n",
      "5/5 [==============================] - 0s 6ms/step - loss: 0.0249 - accuracy: 0.9930\n",
      "Epoch 18/50\n",
      "5/5 [==============================] - 0s 7ms/step - loss: 0.0080 - accuracy: 1.0000\n",
      "Epoch 19/50\n",
      "5/5 [==============================] - 0s 7ms/step - loss: 0.0068 - accuracy: 1.0000\n"
     ]
    },
    {
     "data": {
      "text/plain": [
       "<tensorflow.python.keras.callbacks.History at 0x7fb0107ee110>"
      ]
     },
     "execution_count": 10,
     "metadata": {},
     "output_type": "execute_result"
    }
   ],
   "source": [
    "''' EarlyStopping'''\n",
    "early_stop = tf.keras.callbacks.EarlyStopping(monitor='loss', patience=4)\n",
    "\n",
    "''' training '''\n",
    "model.fit(inp_tensor, target_tensor, epochs=epochs, callbacks=[early_stop])"
   ]
  },
  {
   "cell_type": "code",
   "execution_count": 11,
   "metadata": {},
   "outputs": [
    {
     "name": "stdout",
     "output_type": "stream",
     "text": [
      "Note: Enter 'quit' to break the loop.\n",
      "You: hello\n",
      "Bot: Hola human, please tell me your GeniSys user -- TYPE: Greeting\n",
      "\n",
      "You: how are you ?\n",
      "Bot: Hi, good thank you, how are you? Please tell me your GeniSys user -- TYPE: CourtesyGreeting\n",
      "\n",
      "You: what's your name ?\n",
      "Bot: My name is GeniSys -- TYPE: RealNameQuery\n",
      "\n",
      "You: no i want your real name?\n",
      "Bot: My real name is GeniSys -- TYPE: RealNameQuery\n",
      "\n",
      "You: Can you tell me if you are self-aware ?\n",
      "Bot: That is an interesting question, can you prove that you are? -- TYPE: SelfAware\n",
      "\n",
      "You: tell me a joke\n",
      "Bot: How many existentialists does it take to change a light bulb?  Two. One to screw it in, and one to observe how the light bulb itself symbolises a single incandescent beacon of subjective reality in a netherworld of endless absurdity, reaching towards the ultimate horror of a maudlin cosmos of bleak, hostile nothingness. -- TYPE: Jokes\n",
      "\n",
      "You: can you open the door please ?\n",
      "Bot: I’m sorry, I’m afraid I can’t do that! -- TYPE: PodBayDoor\n",
      "\n",
      "You: quit\n"
     ]
    }
   ],
   "source": [
    "def response(sentence):\n",
    "    sent_seq = []\n",
    "    doc = nlp(repr(sentence))\n",
    "    \n",
    "    # split the input sentences into words\n",
    "    for token in doc:\n",
    "        if token.text in tokenizer.word_index:\n",
    "            sent_seq.append(tokenizer.word_index[token.text])\n",
    "\n",
    "        # handle the unknown words error\n",
    "        else:\n",
    "            sent_seq.append(tokenizer.word_index['<unk>'])\n",
    "\n",
    "    sent_seq = tf.expand_dims(sent_seq, 0)\n",
    "    # predict the category of input sentences\n",
    "    pred = model(sent_seq)\n",
    "\n",
    "    pred_class = np.argmax(pred.numpy(), axis=1)\n",
    "    \n",
    "    # choice a random response for predicted sentence\n",
    "    return random.choice(intent_doc[trg_index_word[pred_class[0]]]), trg_index_word[pred_class[0]]\n",
    "\n",
    "# chat with bot\n",
    "print(\"Note: Enter 'quit' to break the loop.\")\n",
    "while True:\n",
    "    input_ = input('You: ')\n",
    "    if input_.lower() == 'quit':\n",
    "        break\n",
    "    res, typ = response(input_)\n",
    "    print('Bot: {} -- TYPE: {}'.format(res, typ))\n",
    "    print()"
   ]
  },
  {
   "cell_type": "code",
   "execution_count": null,
   "metadata": {},
   "outputs": [],
   "source": []
  }
 ],
 "metadata": {
  "kernelspec": {
   "display_name": "Python 3",
   "language": "python",
   "name": "python3"
  },
  "language_info": {
   "codemirror_mode": {
    "name": "ipython",
    "version": 3
   },
   "file_extension": ".py",
   "mimetype": "text/x-python",
   "name": "python",
   "nbconvert_exporter": "python",
   "pygments_lexer": "ipython3",
   "version": "3.8.5"
  }
 },
 "nbformat": 4,
 "nbformat_minor": 4
}
